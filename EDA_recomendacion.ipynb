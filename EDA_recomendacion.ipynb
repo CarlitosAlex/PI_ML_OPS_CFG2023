{
 "cells": [
  {
   "cell_type": "code",
   "execution_count": 47,
   "metadata": {},
   "outputs": [],
   "source": [
    "# primero importamos las librerias, que utilizaremos.\n",
    "import pandas as pd\n",
    "import numpy as np\n",
    "import seaborn as sns\n",
    "from sklearn.preprocessing import StandardScaler\n",
    "from sklearn.cluster import KMeans\n",
    "from sklearn.preprocessing import StandardScaler, MinMaxScaler\n",
    "from sklearn.metrics import silhouette_score\n",
    "from pandas.core.frame import DataFrame\n",
    "from pandas.io.parsers import read_csv\n",
    "from collections import defaultdict\n",
    "import pandas as pd\n",
    "from surprise import SVDpp\n",
    "from surprise import Dataset, Reader\n",
    "from surprise.model_selection import train_test_split\n",
    "from surprise import accuracy\n",
    "from collections import defaultdict"
   ]
  },
  {
   "attachments": {},
   "cell_type": "markdown",
   "metadata": {},
   "source": [
    "Comienzo el proceso de EDA"
   ]
  },
  {
   "attachments": {},
   "cell_type": "markdown",
   "metadata": {
    "notebookRunGroups": {
     "groupValue": ""
    }
   },
   "source": [
    "Cargo los df para prepararlos para el trabajo"
   ]
  },
  {
   "cell_type": "code",
   "execution_count": 121,
   "metadata": {},
   "outputs": [
    {
     "name": "stderr",
     "output_type": "stream",
     "text": [
      "C:\\Users\\cfari\\AppData\\Local\\Temp\\ipykernel_288\\1417286649.py:2: DtypeWarning: Columns (4,5) have mixed types. Specify dtype option on import or set low_memory=False.\n",
      "  DF_Rating =pd.read_csv ((r'C:\\Users\\cfari\\OneDrive\\Escritorio\\PI_ML_OPS_CFG_2023\\DF_Rating.csv'))\n"
     ]
    },
    {
     "data": {
      "text/html": [
       "<div>\n",
       "<style scoped>\n",
       "    .dataframe tbody tr th:only-of-type {\n",
       "        vertical-align: middle;\n",
       "    }\n",
       "\n",
       "    .dataframe tbody tr th {\n",
       "        vertical-align: top;\n",
       "    }\n",
       "\n",
       "    .dataframe thead th {\n",
       "        text-align: right;\n",
       "    }\n",
       "</style>\n",
       "<table border=\"1\" class=\"dataframe\">\n",
       "  <thead>\n",
       "    <tr style=\"text-align: right;\">\n",
       "      <th></th>\n",
       "      <th>Unnamed: 0</th>\n",
       "      <th>userId</th>\n",
       "      <th>score</th>\n",
       "      <th>timestamp</th>\n",
       "      <th>movieIdG</th>\n",
       "      <th>movieId</th>\n",
       "    </tr>\n",
       "  </thead>\n",
       "  <tbody>\n",
       "    <tr>\n",
       "      <th>0</th>\n",
       "      <td>0.0</td>\n",
       "      <td>1</td>\n",
       "      <td>1.0</td>\n",
       "      <td>1425941529</td>\n",
       "      <td>net5216</td>\n",
       "      <td>NaN</td>\n",
       "    </tr>\n",
       "    <tr>\n",
       "      <th>1</th>\n",
       "      <td>1.0</td>\n",
       "      <td>1</td>\n",
       "      <td>4.5</td>\n",
       "      <td>1425942435</td>\n",
       "      <td>net4230</td>\n",
       "      <td>NaN</td>\n",
       "    </tr>\n",
       "    <tr>\n",
       "      <th>2</th>\n",
       "      <td>2.0</td>\n",
       "      <td>1</td>\n",
       "      <td>5.0</td>\n",
       "      <td>1425941523</td>\n",
       "      <td>ama3278</td>\n",
       "      <td>NaN</td>\n",
       "    </tr>\n",
       "    <tr>\n",
       "      <th>3</th>\n",
       "      <td>3.0</td>\n",
       "      <td>1</td>\n",
       "      <td>5.0</td>\n",
       "      <td>1425941546</td>\n",
       "      <td>ama4934</td>\n",
       "      <td>NaN</td>\n",
       "    </tr>\n",
       "    <tr>\n",
       "      <th>4</th>\n",
       "      <td>4.0</td>\n",
       "      <td>1</td>\n",
       "      <td>5.0</td>\n",
       "      <td>1425941556</td>\n",
       "      <td>ama7876</td>\n",
       "      <td>NaN</td>\n",
       "    </tr>\n",
       "    <tr>\n",
       "      <th>...</th>\n",
       "      <td>...</td>\n",
       "      <td>...</td>\n",
       "      <td>...</td>\n",
       "      <td>...</td>\n",
       "      <td>...</td>\n",
       "      <td>...</td>\n",
       "    </tr>\n",
       "    <tr>\n",
       "      <th>11024284</th>\n",
       "      <td>NaN</td>\n",
       "      <td>124380</td>\n",
       "      <td>4.5</td>\n",
       "      <td>1196786159</td>\n",
       "      <td>NaN</td>\n",
       "      <td>ns5272</td>\n",
       "    </tr>\n",
       "    <tr>\n",
       "      <th>11024285</th>\n",
       "      <td>NaN</td>\n",
       "      <td>124380</td>\n",
       "      <td>2.5</td>\n",
       "      <td>1196786030</td>\n",
       "      <td>NaN</td>\n",
       "      <td>ns5492</td>\n",
       "    </tr>\n",
       "    <tr>\n",
       "      <th>11024286</th>\n",
       "      <td>NaN</td>\n",
       "      <td>124380</td>\n",
       "      <td>3.5</td>\n",
       "      <td>1196785679</td>\n",
       "      <td>NaN</td>\n",
       "      <td>hs305</td>\n",
       "    </tr>\n",
       "    <tr>\n",
       "      <th>11024287</th>\n",
       "      <td>NaN</td>\n",
       "      <td>124380</td>\n",
       "      <td>4.5</td>\n",
       "      <td>1196787089</td>\n",
       "      <td>NaN</td>\n",
       "      <td>ns7881</td>\n",
       "    </tr>\n",
       "    <tr>\n",
       "      <th>11024288</th>\n",
       "      <td>NaN</td>\n",
       "      <td>124380</td>\n",
       "      <td>1.5</td>\n",
       "      <td>1196785847</td>\n",
       "      <td>NaN</td>\n",
       "      <td>as883</td>\n",
       "    </tr>\n",
       "  </tbody>\n",
       "</table>\n",
       "<p>11024289 rows × 6 columns</p>\n",
       "</div>"
      ],
      "text/plain": [
       "          Unnamed: 0  userId  score   timestamp movieIdG movieId\n",
       "0                0.0       1    1.0  1425941529  net5216     NaN\n",
       "1                1.0       1    4.5  1425942435  net4230     NaN\n",
       "2                2.0       1    5.0  1425941523  ama3278     NaN\n",
       "3                3.0       1    5.0  1425941546  ama4934     NaN\n",
       "4                4.0       1    5.0  1425941556  ama7876     NaN\n",
       "...              ...     ...    ...         ...      ...     ...\n",
       "11024284         NaN  124380    4.5  1196786159      NaN  ns5272\n",
       "11024285         NaN  124380    2.5  1196786030      NaN  ns5492\n",
       "11024286         NaN  124380    3.5  1196785679      NaN   hs305\n",
       "11024287         NaN  124380    4.5  1196787089      NaN  ns7881\n",
       "11024288         NaN  124380    1.5  1196785847      NaN   as883\n",
       "\n",
       "[11024289 rows x 6 columns]"
      ]
     },
     "execution_count": 121,
     "metadata": {},
     "output_type": "execute_result"
    }
   ],
   "source": [
    "Dataframe_streamings2 = pd.read_csv ((r'C:\\Users\\cfari\\OneDrive\\Escritorio\\PI_ML_OPS_CFG_2023\\Dataframe_streamings2.csv'))\n",
    "DF_Rating =pd.read_csv ((r'C:\\Users\\cfari\\OneDrive\\Escritorio\\PI_ML_OPS_CFG_2023\\DF_Rating.csv'))\n",
    "DF_Rating\n"
   ]
  },
  {
   "cell_type": "code",
   "execution_count": 122,
   "metadata": {},
   "outputs": [
    {
     "data": {
      "text/html": [
       "<div>\n",
       "<style scoped>\n",
       "    .dataframe tbody tr th:only-of-type {\n",
       "        vertical-align: middle;\n",
       "    }\n",
       "\n",
       "    .dataframe tbody tr th {\n",
       "        vertical-align: top;\n",
       "    }\n",
       "\n",
       "    .dataframe thead th {\n",
       "        text-align: right;\n",
       "    }\n",
       "</style>\n",
       "<table border=\"1\" class=\"dataframe\">\n",
       "  <thead>\n",
       "    <tr style=\"text-align: right;\">\n",
       "      <th></th>\n",
       "      <th>title</th>\n",
       "    </tr>\n",
       "    <tr>\n",
       "      <th>show_id</th>\n",
       "      <th></th>\n",
       "    </tr>\n",
       "  </thead>\n",
       "  <tbody>\n",
       "    <tr>\n",
       "      <th>show_id</th>\n",
       "      <td>title</td>\n",
       "    </tr>\n",
       "    <tr>\n",
       "      <th>s1</th>\n",
       "      <td>the grand seduction</td>\n",
       "    </tr>\n",
       "    <tr>\n",
       "      <th>s2</th>\n",
       "      <td>take care good night</td>\n",
       "    </tr>\n",
       "    <tr>\n",
       "      <th>s3</th>\n",
       "      <td>secrets of deception</td>\n",
       "    </tr>\n",
       "    <tr>\n",
       "      <th>s4</th>\n",
       "      <td>pink: staying true</td>\n",
       "    </tr>\n",
       "  </tbody>\n",
       "</table>\n",
       "</div>"
      ],
      "text/plain": [
       "                        title\n",
       "show_id                      \n",
       "show_id                 title\n",
       "s1        the grand seduction\n",
       "s2       take care good night\n",
       "s3       secrets of deception\n",
       "s4         pink: staying true"
      ]
     },
     "execution_count": 122,
     "metadata": {},
     "output_type": "execute_result"
    }
   ],
   "source": [
    "df_title = pd.read_csv(r'C:\\Users\\cfari\\OneDrive\\Escritorio\\PI_ML_OPS_CFG_2023\\Dataframe_streamings2.csv', encoding = \"ISO-8859-1\",index_col = 0, header = None, usecols = [0,2], names = ['show_id', 'title'])\n",
    "df_title.head() "
   ]
  },
  {
   "attachments": {},
   "cell_type": "markdown",
   "metadata": {},
   "source": [
    "Se detectan valores nulos."
   ]
  },
  {
   "cell_type": "code",
   "execution_count": 58,
   "metadata": {},
   "outputs": [
    {
     "data": {
      "text/plain": [
       "Unnamed: 0    1500000\n",
       "userId              0\n",
       "score               0\n",
       "timestamp           0\n",
       "movieIdG      1500000\n",
       "movieId       9524289\n",
       "dtype: int64"
      ]
     },
     "execution_count": 58,
     "metadata": {},
     "output_type": "execute_result"
    }
   ],
   "source": [
    "DF_Rating.isnull().sum()"
   ]
  },
  {
   "attachments": {},
   "cell_type": "markdown",
   "metadata": {},
   "source": [
    "Los valores nulos se dejan como unknown (desconocidos) en ambos dataframes, para no perder informacion de clientes que pueden ser importantes."
   ]
  },
  {
   "cell_type": "code",
   "execution_count": 90,
   "metadata": {},
   "outputs": [
    {
     "data": {
      "text/html": [
       "<div>\n",
       "<style scoped>\n",
       "    .dataframe tbody tr th:only-of-type {\n",
       "        vertical-align: middle;\n",
       "    }\n",
       "\n",
       "    .dataframe tbody tr th {\n",
       "        vertical-align: top;\n",
       "    }\n",
       "\n",
       "    .dataframe thead th {\n",
       "        text-align: right;\n",
       "    }\n",
       "</style>\n",
       "<table border=\"1\" class=\"dataframe\">\n",
       "  <thead>\n",
       "    <tr style=\"text-align: right;\">\n",
       "      <th></th>\n",
       "      <th>Unnamed: 0</th>\n",
       "      <th>userId</th>\n",
       "      <th>score</th>\n",
       "      <th>timestamp</th>\n",
       "      <th>movieIdG</th>\n",
       "      <th>movieId</th>\n",
       "    </tr>\n",
       "  </thead>\n",
       "  <tbody>\n",
       "    <tr>\n",
       "      <th>0</th>\n",
       "      <td>0.0</td>\n",
       "      <td>1</td>\n",
       "      <td>1.0</td>\n",
       "      <td>1425941529</td>\n",
       "      <td>net5216</td>\n",
       "      <td>0</td>\n",
       "    </tr>\n",
       "    <tr>\n",
       "      <th>1</th>\n",
       "      <td>1.0</td>\n",
       "      <td>1</td>\n",
       "      <td>4.5</td>\n",
       "      <td>1425942435</td>\n",
       "      <td>net4230</td>\n",
       "      <td>0</td>\n",
       "    </tr>\n",
       "    <tr>\n",
       "      <th>2</th>\n",
       "      <td>2.0</td>\n",
       "      <td>1</td>\n",
       "      <td>5.0</td>\n",
       "      <td>1425941523</td>\n",
       "      <td>ama3278</td>\n",
       "      <td>0</td>\n",
       "    </tr>\n",
       "    <tr>\n",
       "      <th>3</th>\n",
       "      <td>3.0</td>\n",
       "      <td>1</td>\n",
       "      <td>5.0</td>\n",
       "      <td>1425941546</td>\n",
       "      <td>ama4934</td>\n",
       "      <td>0</td>\n",
       "    </tr>\n",
       "    <tr>\n",
       "      <th>4</th>\n",
       "      <td>4.0</td>\n",
       "      <td>1</td>\n",
       "      <td>5.0</td>\n",
       "      <td>1425941556</td>\n",
       "      <td>ama7876</td>\n",
       "      <td>0</td>\n",
       "    </tr>\n",
       "    <tr>\n",
       "      <th>...</th>\n",
       "      <td>...</td>\n",
       "      <td>...</td>\n",
       "      <td>...</td>\n",
       "      <td>...</td>\n",
       "      <td>...</td>\n",
       "      <td>...</td>\n",
       "    </tr>\n",
       "    <tr>\n",
       "      <th>11024284</th>\n",
       "      <td>0</td>\n",
       "      <td>124380</td>\n",
       "      <td>4.5</td>\n",
       "      <td>1196786159</td>\n",
       "      <td>0</td>\n",
       "      <td>ns5272</td>\n",
       "    </tr>\n",
       "    <tr>\n",
       "      <th>11024285</th>\n",
       "      <td>0</td>\n",
       "      <td>124380</td>\n",
       "      <td>2.5</td>\n",
       "      <td>1196786030</td>\n",
       "      <td>0</td>\n",
       "      <td>ns5492</td>\n",
       "    </tr>\n",
       "    <tr>\n",
       "      <th>11024286</th>\n",
       "      <td>0</td>\n",
       "      <td>124380</td>\n",
       "      <td>3.5</td>\n",
       "      <td>1196785679</td>\n",
       "      <td>0</td>\n",
       "      <td>hs305</td>\n",
       "    </tr>\n",
       "    <tr>\n",
       "      <th>11024287</th>\n",
       "      <td>0</td>\n",
       "      <td>124380</td>\n",
       "      <td>4.5</td>\n",
       "      <td>1196787089</td>\n",
       "      <td>0</td>\n",
       "      <td>ns7881</td>\n",
       "    </tr>\n",
       "    <tr>\n",
       "      <th>11024288</th>\n",
       "      <td>0</td>\n",
       "      <td>124380</td>\n",
       "      <td>1.5</td>\n",
       "      <td>1196785847</td>\n",
       "      <td>0</td>\n",
       "      <td>as883</td>\n",
       "    </tr>\n",
       "  </tbody>\n",
       "</table>\n",
       "<p>11024289 rows × 6 columns</p>\n",
       "</div>"
      ],
      "text/plain": [
       "         Unnamed: 0  userId  score   timestamp movieIdG movieId\n",
       "0               0.0       1    1.0  1425941529  net5216       0\n",
       "1               1.0       1    4.5  1425942435  net4230       0\n",
       "2               2.0       1    5.0  1425941523  ama3278       0\n",
       "3               3.0       1    5.0  1425941546  ama4934       0\n",
       "4               4.0       1    5.0  1425941556  ama7876       0\n",
       "...             ...     ...    ...         ...      ...     ...\n",
       "11024284          0  124380    4.5  1196786159        0  ns5272\n",
       "11024285          0  124380    2.5  1196786030        0  ns5492\n",
       "11024286          0  124380    3.5  1196785679        0   hs305\n",
       "11024287          0  124380    4.5  1196787089        0  ns7881\n",
       "11024288          0  124380    1.5  1196785847        0   as883\n",
       "\n",
       "[11024289 rows x 6 columns]"
      ]
     },
     "execution_count": 90,
     "metadata": {},
     "output_type": "execute_result"
    }
   ],
   "source": [
    "DF_Rating['movieId'].fillna('0', inplace= True)\n",
    "DF_Rating['movieIdG'].fillna('0', inplace= True) \n",
    "DF_Rating['Unnamed: 0'].fillna('0', inplace= True) \n",
    "DF_Rating"
   ]
  },
  {
   "cell_type": "code",
   "execution_count": 92,
   "metadata": {},
   "outputs": [
    {
     "data": {
      "text/plain": [
       "Unnamed: 0    0\n",
       "userId        0\n",
       "score         0\n",
       "timestamp     0\n",
       "movieIdG      0\n",
       "movieId       0\n",
       "dtype: int64"
      ]
     },
     "execution_count": 92,
     "metadata": {},
     "output_type": "execute_result"
    }
   ],
   "source": [
    "#Reviso que no queden nulos.\n",
    "DF_Rating.isnull().sum()"
   ]
  },
  {
   "cell_type": "code",
   "execution_count": 93,
   "metadata": {},
   "outputs": [
    {
     "data": {
      "text/plain": [
       "<AxesSubplot: xlabel='score', ylabel='count'>"
      ]
     },
     "execution_count": 93,
     "metadata": {},
     "output_type": "execute_result"
    },
    {
     "data": {
      "image/png": "[encoded data removed]",
      "text/plain": [
       "<Figure size 432x288 with 1 Axes>"
      ]
     },
     "metadata": {
      "needs_background": "light"
     },
     "output_type": "display_data"
    }
   ],
   "source": [
    "# visualizamos en un grafico la columna score de nuestro df DF_Rating \n",
    "sns.countplot(x='score', data= DF_Rating)"
   ]
  },
  {
   "attachments": {},
   "cell_type": "markdown",
   "metadata": {},
   "source": [
    "Nos damos cuenta que tenemos peliculas con alta puntuacion, intermedias y bajas, con puntuaciones que van de 5 en 5 desde 0.5 hasta 5.0, esta informacion es relevante para entrenar nuestro modelo."
   ]
  },
  {
   "attachments": {},
   "cell_type": "markdown",
   "metadata": {},
   "source": [
    "Recorremos el DF para verificar la existencia de registros duplicados "
   ]
  },
  {
   "cell_type": "code",
   "execution_count": 94,
   "metadata": {},
   "outputs": [
    {
     "data": {
      "text/plain": [
       "20"
      ]
     },
     "execution_count": 94,
     "metadata": {},
     "output_type": "execute_result"
    }
   ],
   "source": [
    "# Encontramos registros duplicados en nuestro dataframe, se procede a eliminar dichos registros.\n",
    "#len(DF_Rating)\n",
    "len(DF_Rating)-len(DF_Rating.drop_duplicates())\n"
   ]
  },
  {
   "cell_type": "code",
   "execution_count": 96,
   "metadata": {},
   "outputs": [
    {
     "data": {
      "text/html": [
       "<div>\n",
       "<style scoped>\n",
       "    .dataframe tbody tr th:only-of-type {\n",
       "        vertical-align: middle;\n",
       "    }\n",
       "\n",
       "    .dataframe tbody tr th {\n",
       "        vertical-align: top;\n",
       "    }\n",
       "\n",
       "    .dataframe thead th {\n",
       "        text-align: right;\n",
       "    }\n",
       "</style>\n",
       "<table border=\"1\" class=\"dataframe\">\n",
       "  <thead>\n",
       "    <tr style=\"text-align: right;\">\n",
       "      <th></th>\n",
       "      <th>Unnamed: 0</th>\n",
       "      <th>score</th>\n",
       "      <th>movieId</th>\n",
       "    </tr>\n",
       "  </thead>\n",
       "  <tbody>\n",
       "    <tr>\n",
       "      <th>0</th>\n",
       "      <td>0.0</td>\n",
       "      <td>1.0</td>\n",
       "      <td>0</td>\n",
       "    </tr>\n",
       "    <tr>\n",
       "      <th>1</th>\n",
       "      <td>1.0</td>\n",
       "      <td>4.5</td>\n",
       "      <td>0</td>\n",
       "    </tr>\n",
       "    <tr>\n",
       "      <th>2</th>\n",
       "      <td>2.0</td>\n",
       "      <td>5.0</td>\n",
       "      <td>0</td>\n",
       "    </tr>\n",
       "    <tr>\n",
       "      <th>3</th>\n",
       "      <td>3.0</td>\n",
       "      <td>5.0</td>\n",
       "      <td>0</td>\n",
       "    </tr>\n",
       "    <tr>\n",
       "      <th>4</th>\n",
       "      <td>4.0</td>\n",
       "      <td>5.0</td>\n",
       "      <td>0</td>\n",
       "    </tr>\n",
       "    <tr>\n",
       "      <th>...</th>\n",
       "      <td>...</td>\n",
       "      <td>...</td>\n",
       "      <td>...</td>\n",
       "    </tr>\n",
       "    <tr>\n",
       "      <th>11024284</th>\n",
       "      <td>0</td>\n",
       "      <td>4.5</td>\n",
       "      <td>ns5272</td>\n",
       "    </tr>\n",
       "    <tr>\n",
       "      <th>11024285</th>\n",
       "      <td>0</td>\n",
       "      <td>2.5</td>\n",
       "      <td>ns5492</td>\n",
       "    </tr>\n",
       "    <tr>\n",
       "      <th>11024286</th>\n",
       "      <td>0</td>\n",
       "      <td>3.5</td>\n",
       "      <td>hs305</td>\n",
       "    </tr>\n",
       "    <tr>\n",
       "      <th>11024287</th>\n",
       "      <td>0</td>\n",
       "      <td>4.5</td>\n",
       "      <td>ns7881</td>\n",
       "    </tr>\n",
       "    <tr>\n",
       "      <th>11024288</th>\n",
       "      <td>0</td>\n",
       "      <td>1.5</td>\n",
       "      <td>as883</td>\n",
       "    </tr>\n",
       "  </tbody>\n",
       "</table>\n",
       "<p>11024289 rows × 3 columns</p>\n",
       "</div>"
      ],
      "text/plain": [
       "         Unnamed: 0  score movieId\n",
       "0               0.0    1.0       0\n",
       "1               1.0    4.5       0\n",
       "2               2.0    5.0       0\n",
       "3               3.0    5.0       0\n",
       "4               4.0    5.0       0\n",
       "...             ...    ...     ...\n",
       "11024284          0    4.5  ns5272\n",
       "11024285          0    2.5  ns5492\n",
       "11024286          0    3.5   hs305\n",
       "11024287          0    4.5  ns7881\n",
       "11024288          0    1.5   as883\n",
       "\n",
       "[11024289 rows x 3 columns]"
      ]
     },
     "execution_count": 96,
     "metadata": {},
     "output_type": "execute_result"
    }
   ],
   "source": [
    "# Se eliminan las columnas que no serviran para la experiencia\n",
    "df_rating = DF_Rating.drop(['userId', 'timestamp', 'movieIdG'], axis=1)\n",
    "df_rating"
   ]
  },
  {
   "cell_type": "code",
   "execution_count": 102,
   "metadata": {},
   "outputs": [
    {
     "data": {
      "text/html": [
       "<div>\n",
       "<style scoped>\n",
       "    .dataframe tbody tr th:only-of-type {\n",
       "        vertical-align: middle;\n",
       "    }\n",
       "\n",
       "    .dataframe tbody tr th {\n",
       "        vertical-align: top;\n",
       "    }\n",
       "\n",
       "    .dataframe thead th {\n",
       "        text-align: right;\n",
       "    }\n",
       "</style>\n",
       "<table border=\"1\" class=\"dataframe\">\n",
       "  <thead>\n",
       "    <tr style=\"text-align: right;\">\n",
       "      <th></th>\n",
       "      <th>User</th>\n",
       "      <th>score</th>\n",
       "      <th>movieId</th>\n",
       "    </tr>\n",
       "  </thead>\n",
       "  <tbody>\n",
       "    <tr>\n",
       "      <th>0</th>\n",
       "      <td>0.0</td>\n",
       "      <td>1.0</td>\n",
       "      <td>0</td>\n",
       "    </tr>\n",
       "    <tr>\n",
       "      <th>1</th>\n",
       "      <td>1.0</td>\n",
       "      <td>4.5</td>\n",
       "      <td>0</td>\n",
       "    </tr>\n",
       "    <tr>\n",
       "      <th>2</th>\n",
       "      <td>2.0</td>\n",
       "      <td>5.0</td>\n",
       "      <td>0</td>\n",
       "    </tr>\n",
       "    <tr>\n",
       "      <th>3</th>\n",
       "      <td>3.0</td>\n",
       "      <td>5.0</td>\n",
       "      <td>0</td>\n",
       "    </tr>\n",
       "    <tr>\n",
       "      <th>4</th>\n",
       "      <td>4.0</td>\n",
       "      <td>5.0</td>\n",
       "      <td>0</td>\n",
       "    </tr>\n",
       "    <tr>\n",
       "      <th>...</th>\n",
       "      <td>...</td>\n",
       "      <td>...</td>\n",
       "      <td>...</td>\n",
       "    </tr>\n",
       "    <tr>\n",
       "      <th>11024284</th>\n",
       "      <td>0</td>\n",
       "      <td>4.5</td>\n",
       "      <td>ns5272</td>\n",
       "    </tr>\n",
       "    <tr>\n",
       "      <th>11024285</th>\n",
       "      <td>0</td>\n",
       "      <td>2.5</td>\n",
       "      <td>ns5492</td>\n",
       "    </tr>\n",
       "    <tr>\n",
       "      <th>11024286</th>\n",
       "      <td>0</td>\n",
       "      <td>3.5</td>\n",
       "      <td>hs305</td>\n",
       "    </tr>\n",
       "    <tr>\n",
       "      <th>11024287</th>\n",
       "      <td>0</td>\n",
       "      <td>4.5</td>\n",
       "      <td>ns7881</td>\n",
       "    </tr>\n",
       "    <tr>\n",
       "      <th>11024288</th>\n",
       "      <td>0</td>\n",
       "      <td>1.5</td>\n",
       "      <td>as883</td>\n",
       "    </tr>\n",
       "  </tbody>\n",
       "</table>\n",
       "<p>11024289 rows × 3 columns</p>\n",
       "</div>"
      ],
      "text/plain": [
       "         User  score movieId\n",
       "0         0.0    1.0       0\n",
       "1         1.0    4.5       0\n",
       "2         2.0    5.0       0\n",
       "3         3.0    5.0       0\n",
       "4         4.0    5.0       0\n",
       "...       ...    ...     ...\n",
       "11024284    0    4.5  ns5272\n",
       "11024285    0    2.5  ns5492\n",
       "11024286    0    3.5   hs305\n",
       "11024287    0    4.5  ns7881\n",
       "11024288    0    1.5   as883\n",
       "\n",
       "[11024289 rows x 3 columns]"
      ]
     },
     "execution_count": 102,
     "metadata": {},
     "output_type": "execute_result"
    }
   ],
   "source": [
    "#Renombramos\n",
    "df_rating= df_rating.rename(columns={'Unnamed: 0':'User'})\n",
    "df_rating"
   ]
  },
  {
   "cell_type": "code",
   "execution_count": 103,
   "metadata": {},
   "outputs": [],
   "source": [
    "# Guardamor el df\n",
    "\n",
    "df_rating.to_csv('DF_Rating_test.csv')\n",
    "\n",
    " "
   ]
  },
  {
   "cell_type": "code",
   "execution_count": 108,
   "metadata": {},
   "outputs": [
    {
     "data": {
      "text/html": [
       "<div>\n",
       "<style scoped>\n",
       "    .dataframe tbody tr th:only-of-type {\n",
       "        vertical-align: middle;\n",
       "    }\n",
       "\n",
       "    .dataframe tbody tr th {\n",
       "        vertical-align: top;\n",
       "    }\n",
       "\n",
       "    .dataframe thead th {\n",
       "        text-align: right;\n",
       "    }\n",
       "</style>\n",
       "<table border=\"1\" class=\"dataframe\">\n",
       "  <thead>\n",
       "    <tr style=\"text-align: right;\">\n",
       "      <th></th>\n",
       "      <th>User</th>\n",
       "      <th>score</th>\n",
       "      <th>movieId</th>\n",
       "    </tr>\n",
       "  </thead>\n",
       "  <tbody>\n",
       "    <tr>\n",
       "      <th>0</th>\n",
       "      <td>0.0</td>\n",
       "      <td>1.0</td>\n",
       "      <td>0</td>\n",
       "    </tr>\n",
       "    <tr>\n",
       "      <th>1</th>\n",
       "      <td>1.0</td>\n",
       "      <td>4.5</td>\n",
       "      <td>0</td>\n",
       "    </tr>\n",
       "    <tr>\n",
       "      <th>2</th>\n",
       "      <td>2.0</td>\n",
       "      <td>5.0</td>\n",
       "      <td>0</td>\n",
       "    </tr>\n",
       "    <tr>\n",
       "      <th>3</th>\n",
       "      <td>3.0</td>\n",
       "      <td>5.0</td>\n",
       "      <td>0</td>\n",
       "    </tr>\n",
       "    <tr>\n",
       "      <th>4</th>\n",
       "      <td>4.0</td>\n",
       "      <td>5.0</td>\n",
       "      <td>0</td>\n",
       "    </tr>\n",
       "    <tr>\n",
       "      <th>...</th>\n",
       "      <td>...</td>\n",
       "      <td>...</td>\n",
       "      <td>...</td>\n",
       "    </tr>\n",
       "    <tr>\n",
       "      <th>1048570</th>\n",
       "      <td>1048570.0</td>\n",
       "      <td>2.0</td>\n",
       "      <td>0</td>\n",
       "    </tr>\n",
       "    <tr>\n",
       "      <th>1048571</th>\n",
       "      <td>1048571.0</td>\n",
       "      <td>3.0</td>\n",
       "      <td>0</td>\n",
       "    </tr>\n",
       "    <tr>\n",
       "      <th>1048572</th>\n",
       "      <td>1048572.0</td>\n",
       "      <td>3.0</td>\n",
       "      <td>0</td>\n",
       "    </tr>\n",
       "    <tr>\n",
       "      <th>1048573</th>\n",
       "      <td>1048573.0</td>\n",
       "      <td>1.0</td>\n",
       "      <td>0</td>\n",
       "    </tr>\n",
       "    <tr>\n",
       "      <th>1048574</th>\n",
       "      <td>1048574.0</td>\n",
       "      <td>4.0</td>\n",
       "      <td>0</td>\n",
       "    </tr>\n",
       "  </tbody>\n",
       "</table>\n",
       "<p>1048575 rows × 3 columns</p>\n",
       "</div>"
      ],
      "text/plain": [
       "              User  score  movieId\n",
       "0              0.0    1.0        0\n",
       "1              1.0    4.5        0\n",
       "2              2.0    5.0        0\n",
       "3              3.0    5.0        0\n",
       "4              4.0    5.0        0\n",
       "...            ...    ...      ...\n",
       "1048570  1048570.0    2.0        0\n",
       "1048571  1048571.0    3.0        0\n",
       "1048572  1048572.0    3.0        0\n",
       "1048573  1048573.0    1.0        0\n",
       "1048574  1048574.0    4.0        0\n",
       "\n",
       "[1048575 rows x 3 columns]"
      ]
     },
     "execution_count": 108,
     "metadata": {},
     "output_type": "execute_result"
    }
   ],
   "source": [
    "pd.read_csv (\"DF_Rating_test.csv\")"
   ]
  },
  {
   "cell_type": "code",
   "execution_count": 109,
   "metadata": {},
   "outputs": [
    {
     "data": {
      "text/plain": [
       "User        object\n",
       "score      float64\n",
       "movieId     object\n",
       "dtype: object"
      ]
     },
     "execution_count": 109,
     "metadata": {},
     "output_type": "execute_result"
    }
   ],
   "source": [
    "# verifico los tipos de datos de mi dataframe\n",
    "df_rating.dtypes"
   ]
  },
  {
   "attachments": {},
   "cell_type": "markdown",
   "metadata": {},
   "source": [
    "Machine Learning \n",
    "\n",
    "Habiendo importado la librería surprise previamente, procedemos a dar el formato correspondiente a nuestro DF para trabajar con dicha librería.\n"
   ]
  },
  {
   "cell_type": "code",
   "execution_count": 110,
   "metadata": {},
   "outputs": [],
   "source": [
    "reader = Reader()\n",
    "    "
   ]
  },
  {
   "cell_type": "code",
   "execution_count": 112,
   "metadata": {},
   "outputs": [],
   "source": [
    "# Se limita el dataset a N_filas\n",
    "N_filas = 100000 \n",
    "\n",
    "data = Dataset.load_from_df (df_rating[['User', 'movieId', 'score']][:N_filas], reader)  \n"
   ]
  },
  {
   "cell_type": "code",
   "execution_count": 113,
   "metadata": {},
   "outputs": [],
   "source": [
    "# Separamos nuestros datos\n",
    "trainset, testset = train_test_split(data, test_size=.25)"
   ]
  },
  {
   "cell_type": "code",
   "execution_count": 170,
   "metadata": {},
   "outputs": [],
   "source": [
    "# Usaremos un modelo de Singular Value Decomposition\n",
    "from surprise import SVD\n",
    "model = SVD()"
   ]
  },
  {
   "cell_type": "code",
   "execution_count": 115,
   "metadata": {},
   "outputs": [
    {
     "data": {
      "text/plain": [
       "<surprise.prediction_algorithms.matrix_factorization.SVD at 0x285f126ab00>"
      ]
     },
     "execution_count": 115,
     "metadata": {},
     "output_type": "execute_result"
    }
   ],
   "source": [
    "# Predecimos\n",
    "model.fit(trainset)"
   ]
  },
  {
   "cell_type": "code",
   "execution_count": 116,
   "metadata": {},
   "outputs": [],
   "source": [
    "predictions = model.test(testset)"
   ]
  },
  {
   "cell_type": "code",
   "execution_count": 117,
   "metadata": {},
   "outputs": [
    {
     "data": {
      "text/plain": [
       "Prediction(uid=26711.0, iid='0', r_ui=5.0, est=3.5478146216449225, details={'was_impossible': False})"
      ]
     },
     "execution_count": 117,
     "metadata": {},
     "output_type": "execute_result"
    }
   ],
   "source": [
    "predictions[1]"
   ]
  },
  {
   "cell_type": "code",
   "execution_count": 129,
   "metadata": {},
   "outputs": [
    {
     "data": {
      "text/plain": [
       "Prediction(uid=1328945, iid=28, r_ui=None, est=3.52908, details={'was_impossible': False})"
      ]
     },
     "execution_count": 129,
     "metadata": {},
     "output_type": "execute_result"
    }
   ],
   "source": [
    "# Hacemos una predicción al azar para usuario y película\n",
    "model.predict(1328945,28)"
   ]
  },
  {
   "cell_type": "code",
   "execution_count": 161,
   "metadata": {},
   "outputs": [
    {
     "data": {
      "text/html": [
       "<div>\n",
       "<style scoped>\n",
       "    .dataframe tbody tr th:only-of-type {\n",
       "        vertical-align: middle;\n",
       "    }\n",
       "\n",
       "    .dataframe tbody tr th {\n",
       "        vertical-align: top;\n",
       "    }\n",
       "\n",
       "    .dataframe thead th {\n",
       "        text-align: right;\n",
       "    }\n",
       "</style>\n",
       "<table border=\"1\" class=\"dataframe\">\n",
       "  <thead>\n",
       "    <tr style=\"text-align: right;\">\n",
       "      <th></th>\n",
       "      <th>User</th>\n",
       "      <th>score</th>\n",
       "      <th>movieId</th>\n",
       "      <th>title</th>\n",
       "    </tr>\n",
       "  </thead>\n",
       "  <tbody>\n",
       "  </tbody>\n",
       "</table>\n",
       "</div>"
      ],
      "text/plain": [
       "Empty DataFrame\n",
       "Columns: [User, score, movieId, title]\n",
       "Index: []"
      ]
     },
     "execution_count": 161,
     "metadata": {},
     "output_type": "execute_result"
    }
   ],
   "source": [
    "# Tomaremos un usuario para hacerle una recomendación\n",
    "\n",
    "usuario = 1048570\n",
    "rating = 5  # Tomamos películas a las que haya calificado con 4 o 5 estrellas\n",
    "df_user = df_rating[(df_rating['User'] == usuario) & (df_rating['score'] >= rating)]\n",
    "df_user = df_user.reset_index(drop=True)\n",
    "df_user['title'] = df_title['title'].loc[df_user.movieId].values\n",
    "df_user"
   ]
  },
  {
   "cell_type": "code",
   "execution_count": 171,
   "metadata": {},
   "outputs": [
    {
     "name": "stdout",
     "output_type": "stream",
     "text": [
      "(4499, 1)\n"
     ]
    },
    {
     "data": {
      "text/html": [
       "<div>\n",
       "<style scoped>\n",
       "    .dataframe tbody tr th:only-of-type {\n",
       "        vertical-align: middle;\n",
       "    }\n",
       "\n",
       "    .dataframe tbody tr th {\n",
       "        vertical-align: top;\n",
       "    }\n",
       "\n",
       "    .dataframe thead th {\n",
       "        text-align: right;\n",
       "    }\n",
       "</style>\n",
       "<table border=\"1\" class=\"dataframe\">\n",
       "  <thead>\n",
       "    <tr style=\"text-align: right;\">\n",
       "      <th></th>\n",
       "      <th>title</th>\n",
       "    </tr>\n",
       "    <tr>\n",
       "      <th>show_id</th>\n",
       "      <th></th>\n",
       "    </tr>\n",
       "  </thead>\n",
       "  <tbody>\n",
       "    <tr>\n",
       "      <th>show_id</th>\n",
       "      <td>title</td>\n",
       "    </tr>\n",
       "    <tr>\n",
       "      <th>s1</th>\n",
       "      <td>the grand seduction</td>\n",
       "    </tr>\n",
       "    <tr>\n",
       "      <th>s2</th>\n",
       "      <td>take care good night</td>\n",
       "    </tr>\n",
       "    <tr>\n",
       "      <th>s3</th>\n",
       "      <td>secrets of deception</td>\n",
       "    </tr>\n",
       "    <tr>\n",
       "      <th>s4</th>\n",
       "      <td>pink: staying true</td>\n",
       "    </tr>\n",
       "  </tbody>\n",
       "</table>\n",
       "</div>"
      ],
      "text/plain": [
       "                        title\n",
       "show_id                      \n",
       "show_id                 title\n",
       "s1        the grand seduction\n",
       "s2       take care good night\n",
       "s3       secrets of deception\n",
       "s4         pink: staying true"
      ]
     },
     "execution_count": 171,
     "metadata": {},
     "output_type": "execute_result"
    }
   ],
   "source": [
    "recomendaciones_usuario = df_title.iloc[:4499].copy()\n",
    "print(recomendaciones_usuario.shape)\n",
    "recomendaciones_usuario.head()"
   ]
  },
  {
   "cell_type": "code",
   "execution_count": 163,
   "metadata": {},
   "outputs": [
    {
     "name": "stdout",
     "output_type": "stream",
     "text": [
      "(1, 3)\n"
     ]
    },
    {
     "data": {
      "text/html": [
       "<div>\n",
       "<style scoped>\n",
       "    .dataframe tbody tr th:only-of-type {\n",
       "        vertical-align: middle;\n",
       "    }\n",
       "\n",
       "    .dataframe tbody tr th {\n",
       "        vertical-align: top;\n",
       "    }\n",
       "\n",
       "    .dataframe thead th {\n",
       "        text-align: right;\n",
       "    }\n",
       "</style>\n",
       "<table border=\"1\" class=\"dataframe\">\n",
       "  <thead>\n",
       "    <tr style=\"text-align: right;\">\n",
       "      <th></th>\n",
       "      <th>User</th>\n",
       "      <th>score</th>\n",
       "      <th>movieId</th>\n",
       "    </tr>\n",
       "  </thead>\n",
       "  <tbody>\n",
       "    <tr>\n",
       "      <th>1048570</th>\n",
       "      <td>1048570.0</td>\n",
       "      <td>2.0</td>\n",
       "      <td>0</td>\n",
       "    </tr>\n",
       "  </tbody>\n",
       "</table>\n",
       "</div>"
      ],
      "text/plain": [
       "              User  score movieId\n",
       "1048570  1048570.0    2.0       0"
      ]
     },
     "execution_count": 163,
     "metadata": {},
     "output_type": "execute_result"
    }
   ],
   "source": [
    "# Se extraen las películas que ya ha visto\n",
    "\n",
    "usuario_vistas = df_rating[df_rating['User'] == usuario]\n",
    "print(usuario_vistas.shape)\n",
    "usuario_vistas.head()"
   ]
  },
  {
   "attachments": {},
   "cell_type": "markdown",
   "metadata": {},
   "source": [
    "**Evaluación**"
   ]
  },
  {
   "cell_type": "code",
   "execution_count": 165,
   "metadata": {},
   "outputs": [
    {
     "name": "stdout",
     "output_type": "stream",
     "text": [
      "RMSE: 1.0277\n"
     ]
    },
    {
     "data": {
      "text/plain": [
       "1.0277318614433963"
      ]
     },
     "execution_count": 165,
     "metadata": {},
     "output_type": "execute_result"
    }
   ],
   "source": [
    "from surprise import accuracy\n",
    "\n",
    "accuracy.rmse(predictions)"
   ]
  },
  {
   "cell_type": "code",
   "execution_count": 169,
   "metadata": {},
   "outputs": [],
   "source": [
    "# Generamos el archivo csv con las predicciones para la entrega\n",
    "pd.DataFrame(predictions).to_csv('cfg.csv', index=False, header = False)"
   ]
  }
 ],
 "metadata": {
  "kernelspec": {
   "display_name": "Python 3",
   "language": "python",
   "name": "python3"
  },
  "language_info": {
   "codemirror_mode": {
    "name": "ipython",
    "version": 3
   },
   "file_extension": ".py",
   "mimetype": "text/x-python",
   "name": "python",
   "nbconvert_exporter": "python",
   "pygments_lexer": "ipython3",
   "version": "3.10.6"
  },
  "orig_nbformat": 4,
  "vscode": {
   "interpreter": {
    "hash": "325de6fb7081b39ded2feaa6999861bb2e4acfb2a9c67aa568886b61d148f7ef"
   }
  }
 },
 "nbformat": 4,
 "nbformat_minor": 2
}
